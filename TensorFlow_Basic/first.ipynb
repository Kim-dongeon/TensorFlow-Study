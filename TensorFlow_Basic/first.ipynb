{
 "cells": [
  {
   "cell_type": "code",
   "execution_count": 1,
   "metadata": {
    "collapsed": true
   },
   "outputs": [],
   "source": [
    "import tensorflow as tf"
   ]
  },
  {
   "cell_type": "code",
   "execution_count": 3,
   "metadata": {},
   "outputs": [
    {
     "name": "stdout",
     "output_type": "stream",
     "text": [
      "[ 52.]\n"
     ]
    }
   ],
   "source": [
    "a = tf.constant([5],dtype=tf.float32)\n",
    "b = tf.constant([10],dtype=tf.float32)\n",
    "c = tf.constant([2],dtype=tf.float32)\n",
    "\n",
    "d = a*b+c\n",
    "\n",
    "sess = tf.Session()\n",
    "r = sess.run(d)\n",
    "print(r)"
   ]
  },
  {
   "cell_type": "code",
   "execution_count": 3,
   "metadata": {},
   "outputs": [
    {
     "name": "stdout",
     "output_type": "stream",
     "text": [
      "[  2.   4.   6.   8.  10.]\n"
     ]
    }
   ],
   "source": [
    "import tensorflow as tf\n",
    "input_data = [1,2,3,4,5]\n",
    "\n",
    "x= tf.placeholder(dtype=tf.float32)\n",
    "y= x*2\n",
    "\n",
    "sess = tf.Session()\n",
    "result = sess.run(y,feed_dict={x:input_data})\n",
    "print (result)"
   ]
  },
  {
   "cell_type": "code",
   "execution_count": 4,
   "metadata": {},
   "outputs": [
    {
     "name": "stdout",
     "output_type": "stream",
     "text": [
      "[  2.   4.   6.   8.  10.]\n"
     ]
    }
   ],
   "source": [
    "import tensorflow as tf\n",
    "\n",
    "input_data = [1,2,3,4,5]\n",
    "\n",
    "x= tf.placeholder(dtype=tf.float32)\n",
    "W= tf.Variable([2],dtype=tf.float32)\n",
    "y= W*x\n",
    "\n",
    "sess = tf.Session()\n",
    "init = tf.global_variables_initializer()\n",
    "sess.run(init)\n",
    "result = sess.run(y,feed_dict={x:input_data})\n",
    "print (result)\n"
   ]
  },
  {
   "cell_type": "code",
   "execution_count": 11,
   "metadata": {},
   "outputs": [
    {
     "name": "stdout",
     "output_type": "stream",
     "text": [
      "(1, 3)\n",
      "(1, 1)\n",
      "[[ 12.]]\n"
     ]
    }
   ],
   "source": [
    "import tensorflow as tf\n",
    "\n",
    "x = tf.constant([[1.0,2.0,3.0]])\n",
    "w = tf.constant([[2.0],[2.0],[2.0]])\n",
    "y = tf.matmul(x,w)\n",
    "\n",
    "print (x.get_shape())\n",
    "print (y.get_shape())\n",
    "sess = tf.Session()\n",
    "init = tf.global_variables_initializer()\n",
    "sess.run(init)\n",
    "result = sess.run(y)\n",
    "\n",
    "print (result)"
   ]
  },
  {
   "cell_type": "code",
   "execution_count": 14,
   "metadata": {},
   "outputs": [
    {
     "name": "stdout",
     "output_type": "stream",
     "text": [
      "[[ 12.]\n",
      " [ 12.]\n",
      " [ 18.]]\n"
     ]
    }
   ],
   "source": [
    "import tensorflow as tf\n",
    "\n",
    "input_data = [ [1.,2.,3.],[1.,2.,3.],[2.,3.,4.]]\n",
    "x = tf.placeholder(dtype=tf.float32,shape=[None,3])\n",
    "w = tf.Variable([[2.],[2.],[2.]],dtype=tf.float32)\n",
    "y = tf.matmul(x,w)\n",
    "\n",
    "sess = tf.Session()\n",
    "init = tf.global_variables_initializer()\n",
    "sess.run(init)\n",
    "result = sess.run(y,feed_dict={x:input_data})\n",
    "\n",
    "print(result)"
   ]
  },
  {
   "cell_type": "code",
   "execution_count": null,
   "metadata": {
    "collapsed": true
   },
   "outputs": [],
   "source": []
  }
 ],
 "metadata": {
  "kernelspec": {
   "display_name": "Python 3",
   "language": "python",
   "name": "python3"
  },
  "language_info": {
   "codemirror_mode": {
    "name": "ipython",
    "version": 3
   },
   "file_extension": ".py",
   "mimetype": "text/x-python",
   "name": "python",
   "nbconvert_exporter": "python",
   "pygments_lexer": "ipython3",
   "version": "3.6.3"
  }
 },
 "nbformat": 4,
 "nbformat_minor": 2
}
