{
 "cells": [
  {
   "cell_type": "code",
   "execution_count": 7,
   "metadata": {},
   "outputs": [
    {
     "name": "stdout",
     "output_type": "stream",
     "text": [
      "0 2.17721\n",
      "200 0.58327\n",
      "400 0.525327\n",
      "600 0.491296\n",
      "800 0.467104\n",
      "1000 0.447593\n",
      "1200 0.430642\n",
      "1400 0.415295\n",
      "1600 0.401083\n",
      "1800 0.387762\n",
      "2000 0.375193\n",
      "2200 0.36329\n",
      "2400 0.351995\n",
      "2600 0.341264\n",
      "2800 0.33106\n",
      "3000 0.321353\n",
      "3200 0.312115\n",
      "3400 0.303318\n",
      "3600 0.294938\n",
      "3800 0.286951\n",
      "4000 0.279337\n",
      "4200 0.272073\n",
      "4400 0.265139\n",
      "4600 0.258518\n",
      "4800 0.252192\n",
      "5000 0.246143\n",
      "5200 0.240356\n",
      "5400 0.234817\n",
      "5600 0.229511\n",
      "5800 0.224426\n",
      "6000 0.21955\n",
      "6200 0.214871\n",
      "6400 0.210378\n",
      "6600 0.206061\n",
      "6800 0.201912\n",
      "7000 0.197921\n",
      "7200 0.19408\n",
      "7400 0.190382\n",
      "7600 0.186818\n",
      "7800 0.183382\n",
      "8000 0.180068\n",
      "8200 0.17687\n",
      "8400 0.173782\n",
      "8600 0.170799\n",
      "8800 0.167915\n",
      "9000 0.165126\n",
      "9200 0.162428\n",
      "9400 0.159817\n",
      "9600 0.157288\n",
      "9800 0.154837\n",
      "10000 0.152462\n",
      "\n",
      "Hypothesis:  [[ 0.03199802]\n",
      " [ 0.16051701]\n",
      " [ 0.31082991]\n",
      " [ 0.7786715 ]\n",
      " [ 0.93785381]\n",
      " [ 0.97959304]] \n",
      "Correct(Y) :  [[ 0.]\n",
      " [ 0.]\n",
      " [ 0.]\n",
      " [ 1.]\n",
      " [ 1.]\n",
      " [ 1.]] \n",
      "Accuracy:  1.0\n"
     ]
    }
   ],
   "source": [
    "import tensorflow as tf\n",
    "x_data = [[1,2],[2,3],[3,1],[4,3],[5,3],[6,2]]\n",
    "y_data = [[0],[0],[0],[1],[1],[1]]\n",
    "\n",
    "X = tf.placeholder(tf.float32,shape=[None,2])\n",
    "Y = tf.placeholder(tf.float32,shape=[None,1])\n",
    "W = tf.Variable(tf.random_normal([2,1]),name='weight')\n",
    "b = tf.Variable(tf.random_normal([1]),name='bias')\n",
    "\n",
    "hypothesis = tf.sigmoid(tf.matmul(X,W)+b)\n",
    "\n",
    "cost = -tf.reduce_mean(Y * tf.log(hypothesis) + (1-Y)*tf.log(1-hypothesis))\n",
    "\n",
    "train = tf.train.GradientDescentOptimizer(learning_rate=0.01).minimize(cost)\n",
    "\n",
    "predicted = tf.cast(hypothesis > 0.5,dtype = tf.float32)\n",
    "accuracy = tf.reduce_mean(tf.cast(tf.equal(predicted,Y),dtype=tf.float32))\n",
    "\n",
    "with tf.Session() as sess:\n",
    "    sess.run(tf.global_variables_initializer())\n",
    "    \n",
    "    for step in range(10001):\n",
    "        cost_val,_ = sess.run([cost,train],feed_dict={X:x_data, Y:y_data})\n",
    "        if(step % 200 ==0):\n",
    "            print(step,cost_val)\n",
    "            \n",
    "    h,c,a = sess.run([hypothesis,predicted,accuracy],feed_dict={X:x_data,Y:y_data})\n",
    "    print(\"\\nHypothesis: \",h,\"\\nCorrect(Y) : \",c,\"\\nAccuracy: \",a)"
   ]
  },
  {
   "cell_type": "code",
   "execution_count": 8,
   "metadata": {
    "collapsed": true
   },
   "outputs": [],
   "source": [
    "import tensorflow as tf\n",
    "import numpy as np\n",
    "\n",
    "xy = np.loadtxt('C:/Users/KimDongUn/Desktop/Tensorflow/3/data-03-diabetes.csv',delimiter=',',dtype=np.float32)\n",
    "x_data = xy[:,0:-1]\n",
    "y_data = xy[:,[-1]]\n"
   ]
  }
 ],
 "metadata": {
  "kernelspec": {
   "display_name": "Python 3",
   "language": "python",
   "name": "python3"
  },
  "language_info": {
   "codemirror_mode": {
    "name": "ipython",
    "version": 3
   },
   "file_extension": ".py",
   "mimetype": "text/x-python",
   "name": "python",
   "nbconvert_exporter": "python",
   "pygments_lexer": "ipython3",
   "version": "3.6.3"
  }
 },
 "nbformat": 4,
 "nbformat_minor": 2
}
