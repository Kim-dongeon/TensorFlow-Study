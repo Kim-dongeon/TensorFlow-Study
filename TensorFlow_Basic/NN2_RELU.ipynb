{
 "cells": [
  {
   "cell_type": "code",
   "execution_count": 1,
   "metadata": {
    "scrolled": true
   },
   "outputs": [
    {
     "name": "stdout",
     "output_type": "stream",
     "text": [
      "Extracting MNIST_data/train-images-idx3-ubyte.gz\n",
      "Extracting MNIST_data/train-labels-idx1-ubyte.gz\n",
      "Extracting MNIST_data/t10k-images-idx3-ubyte.gz\n",
      "Extracting MNIST_data/t10k-labels-idx1-ubyte.gz\n",
      "Datasets(train=<tensorflow.contrib.learn.python.learn.datasets.mnist.DataSet object at 0x0000020FBF89B6A0>, validation=<tensorflow.contrib.learn.python.learn.datasets.mnist.DataSet object at 0x0000020FC849C080>, test=<tensorflow.contrib.learn.python.learn.datasets.mnist.DataSet object at 0x0000020FC84F7940>)\n",
      "WARNING:tensorflow:From <ipython-input-1-4c93dcabf52e>:36: arg_max (from tensorflow.python.ops.gen_math_ops) is deprecated and will be removed in a future version.\n",
      "Instructions for updating:\n",
      "Use `argmax` instead\n",
      "Epoch:  0001 cost =  0.455658845\n",
      "Epoch:  0002 cost =  0.182090594\n",
      "Epoch:  0003 cost =  0.135613119\n",
      "Epoch:  0004 cost =  0.111223840\n",
      "Epoch:  0005 cost =  0.096584874\n",
      "Epoch:  0006 cost =  0.083587704\n",
      "Epoch:  0007 cost =  0.075672747\n",
      "Epoch:  0008 cost =  0.068671518\n",
      "Epoch:  0009 cost =  0.064025424\n",
      "Epoch:  0010 cost =  0.054285569\n",
      "Epoch:  0011 cost =  0.051972953\n",
      "Epoch:  0012 cost =  0.051901837\n",
      "Epoch:  0013 cost =  0.049109180\n",
      "Epoch:  0014 cost =  0.044272173\n",
      "Epoch:  0015 cost =  0.044416678\n",
      "Learning finished\n",
      "Accuracy :  0.9815\n"
     ]
    }
   ],
   "source": [
    "from tensorflow.examples.tutorials.mnist import input_data\n",
    "import tensorflow as tf\n",
    "\n",
    "import matplotlib.pyplot as plt\n",
    "import random\n",
    "\n",
    "mnist = input_data.read_data_sets(\"MNIST_data/\",one_hot=True)\n",
    "print(mnist)\n",
    "nb_classes =10\n",
    "X = tf.placeholder(tf.float32,[None,784])\n",
    "Y = tf.placeholder(tf.float32,[None,nb_classes])\n",
    "#W = tf.Variable(tf.random_normal([784,nb_classes]))\n",
    "#b = tf.Variable(tf.random_normal([nb_classes]))\n",
    "\n",
    "keep_prob = tf.placeholder(tf.float32)\n",
    "\n",
    "W1 = tf.get_variable(\"W1\",shape=[784,256],initializer = tf.contrib.layers.xavier_initializer())\n",
    "b1 = tf.Variable(tf.random_normal([256]))\n",
    "L1 = tf.nn.relu(tf.matmul(X,W1)+b1)\n",
    "L1 = tf.nn.dropout(L1,keep_prob=keep_prob)\n",
    "\n",
    "W2 = tf.get_variable(shape = [256,256],name='W2',initializer = tf.contrib.layers.xavier_initializer())\n",
    "b2 = tf.Variable(tf.random_normal([256]))\n",
    "L2 = tf.nn.relu(tf.matmul(L1,W2)+b2)\n",
    "L2 = tf.nn.dropout(L2,keep_prob=keep_prob)\n",
    "\n",
    "W3 = tf.get_variable(shape = [256,10],name='W3',initializer = tf.contrib.layers.xavier_initializer())\n",
    "b3 = tf.Variable(tf.random_normal([10]))\n",
    "hypothesis = tf.matmul(L2,W3)+b3\n",
    "\n",
    "\n",
    "#hypothesis = tf.matmul(X,W)+b\n",
    "cost = tf.reduce_mean(tf.nn.softmax_cross_entropy_with_logits(logits=hypothesis,labels=Y))\n",
    "optimizer = tf.train.AdamOptimizer(learning_rate = 0.001).minimize(cost)\n",
    "\n",
    "is_correct = tf.equal(tf.arg_max(hypothesis,1),tf.arg_max(Y,1))\n",
    "accuracy = tf.reduce_mean(tf.cast(is_correct,tf.float32))\n",
    "\n",
    "training_epochs = 15\n",
    "batch_size =100\n",
    "\n",
    "with tf.Session() as sess:\n",
    "    sess.run(tf.global_variables_initializer())\n",
    "    \n",
    "    for epoch in range(training_epochs):\n",
    "        avg_cost = 0\n",
    "        total_batch = int(mnist.train.num_examples / batch_size)\n",
    "        \n",
    "        for i in range(total_batch):\n",
    "            batch_xs,batch_ys = mnist.train.next_batch(batch_size)\n",
    "            c, _  = sess.run([cost,optimizer],feed_dict = {X:batch_xs,Y : batch_ys,keep_prob:0.7})\n",
    "            avg_cost += c / total_batch\n",
    "            \n",
    "        print('Epoch: ','%04d'%(epoch+1),'cost = ','{:.9f}'.format(avg_cost))\n",
    "        \n",
    "        \n",
    "    print(\"Learning finished\")\n",
    "\n",
    "    correct_prediction = tf.equal(tf.argmax(hypothesis,1),tf.argmax(Y,1))\n",
    "    accuracy = tf.reduce_mean(tf.cast(correct_prediction,tf.float32))\n",
    "    print('Accuracy : ',sess.run(accuracy,feed_dict={X:mnist.test.images,Y:mnist.test.labels,keep_prob:1}))\n",
    "    "
   ]
  }
 ],
 "metadata": {
  "kernelspec": {
   "display_name": "Python 3",
   "language": "python",
   "name": "python3"
  },
  "language_info": {
   "codemirror_mode": {
    "name": "ipython",
    "version": 3
   },
   "file_extension": ".py",
   "mimetype": "text/x-python",
   "name": "python",
   "nbconvert_exporter": "python",
   "pygments_lexer": "ipython3",
   "version": "3.6.3"
  }
 },
 "nbformat": 4,
 "nbformat_minor": 2
}
